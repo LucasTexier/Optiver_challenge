{
 "cells": [
  {
   "cell_type": "code",
   "execution_count": 1,
   "metadata": {},
   "outputs": [],
   "source": [
    "import pandas as pd\n",
    "import matplotlib.pyplot as plt\n",
    "import numpy as np \n",
    "from sklearn.preprocessing import LabelEncoder"
   ]
  },
  {
   "cell_type": "markdown",
   "metadata": {},
   "source": [
    "# Data import"
   ]
  },
  {
   "cell_type": "code",
   "execution_count": 2,
   "metadata": {},
   "outputs": [],
   "source": [
    "# indicate your path to the data\n",
    "path = \"/Users/bagafoufabrice/Downloads/train.csv\"\n",
    "#path = \"C:/Users/33695/Desktop/train.csv\""
   ]
  },
  {
   "cell_type": "code",
   "execution_count": 3,
   "id": "076eb278",
   "metadata": {},
   "outputs": [],
   "source": [
    "# Load the data from the text file into a DataFrame\n",
    "df = pd.read_csv(path, sep = ',')\n",
    "\n",
    "# Print the DataFrame\n",
    "df = df.drop(['row_id'],axis = 1)\n",
    "label_encoder = LabelEncoder()\n",
    "df['stock_id'] = label_encoder.fit_transform(df['stock_id'])"
   ]
  },
  {
   "cell_type": "code",
   "execution_count": 4,
   "metadata": {},
   "outputs": [],
   "source": [
    "# add stocks features to the dataset\n",
    "#df[\"volume\"] = df.eval(\"ask_size + bid_size\")\n",
    "#df[\"mid_price\"] = df.eval(\"(ask_price + bid_price) / 2\")\n",
    "df[\"liquidity_imbalance\"] = df.eval(\"(bid_size-ask_size)/(bid_size+ask_size)\")\n",
    "df[\"matched_imbalance\"] = df.eval(\"(imbalance_size-matched_size)/(matched_size+imbalance_size)\")\n",
    "df[\"size_imbalance\"] = df.eval(\"bid_size / ask_size\")\n",
    "#df['log_return'] = np.log(df['mid_price']).diff()\n",
    "#df['log_return'] = df['log_return'].fillna(0)"
   ]
  },
  {
   "cell_type": "code",
   "execution_count": 5,
   "metadata": {},
   "outputs": [
    {
     "name": "stdout",
     "output_type": "stream",
     "text": [
      "<class 'pandas.core.frame.DataFrame'>\n",
      "RangeIndex: 5237980 entries, 0 to 5237979\n",
      "Data columns (total 19 columns):\n",
      " #   Column                   Dtype  \n",
      "---  ------                   -----  \n",
      " 0   stock_id                 int64  \n",
      " 1   date_id                  int64  \n",
      " 2   seconds_in_bucket        int64  \n",
      " 3   imbalance_size           float64\n",
      " 4   imbalance_buy_sell_flag  int64  \n",
      " 5   reference_price          float64\n",
      " 6   matched_size             float64\n",
      " 7   far_price                float64\n",
      " 8   near_price               float64\n",
      " 9   bid_price                float64\n",
      " 10  bid_size                 float64\n",
      " 11  ask_price                float64\n",
      " 12  ask_size                 float64\n",
      " 13  wap                      float64\n",
      " 14  target                   float64\n",
      " 15  time_id                  int64  \n",
      " 16  liquidity_imbalance      float64\n",
      " 17  matched_imbalance        float64\n",
      " 18  size_imbalance           float64\n",
      "dtypes: float64(14), int64(5)\n",
      "memory usage: 759.3 MB\n",
      "None\n"
     ]
    },
    {
     "data": {
      "text/html": [
       "<div>\n",
       "<style scoped>\n",
       "    .dataframe tbody tr th:only-of-type {\n",
       "        vertical-align: middle;\n",
       "    }\n",
       "\n",
       "    .dataframe tbody tr th {\n",
       "        vertical-align: top;\n",
       "    }\n",
       "\n",
       "    .dataframe thead th {\n",
       "        text-align: right;\n",
       "    }\n",
       "</style>\n",
       "<table border=\"1\" class=\"dataframe\">\n",
       "  <thead>\n",
       "    <tr style=\"text-align: right;\">\n",
       "      <th></th>\n",
       "      <th>stock_id</th>\n",
       "      <th>date_id</th>\n",
       "      <th>seconds_in_bucket</th>\n",
       "      <th>imbalance_size</th>\n",
       "      <th>imbalance_buy_sell_flag</th>\n",
       "      <th>reference_price</th>\n",
       "      <th>matched_size</th>\n",
       "      <th>far_price</th>\n",
       "      <th>near_price</th>\n",
       "      <th>bid_price</th>\n",
       "      <th>bid_size</th>\n",
       "      <th>ask_price</th>\n",
       "      <th>ask_size</th>\n",
       "      <th>wap</th>\n",
       "      <th>target</th>\n",
       "      <th>time_id</th>\n",
       "      <th>liquidity_imbalance</th>\n",
       "      <th>matched_imbalance</th>\n",
       "      <th>size_imbalance</th>\n",
       "    </tr>\n",
       "  </thead>\n",
       "  <tbody>\n",
       "    <tr>\n",
       "      <th>0</th>\n",
       "      <td>0</td>\n",
       "      <td>0</td>\n",
       "      <td>0</td>\n",
       "      <td>3180602.69</td>\n",
       "      <td>1</td>\n",
       "      <td>0.999812</td>\n",
       "      <td>13380276.64</td>\n",
       "      <td>NaN</td>\n",
       "      <td>NaN</td>\n",
       "      <td>0.999812</td>\n",
       "      <td>60651.50</td>\n",
       "      <td>1.000026</td>\n",
       "      <td>8493.03</td>\n",
       "      <td>1.0</td>\n",
       "      <td>-3.029704</td>\n",
       "      <td>0</td>\n",
       "      <td>0.754340</td>\n",
       "      <td>-0.615890</td>\n",
       "      <td>7.141326</td>\n",
       "    </tr>\n",
       "    <tr>\n",
       "      <th>1</th>\n",
       "      <td>1</td>\n",
       "      <td>0</td>\n",
       "      <td>0</td>\n",
       "      <td>166603.91</td>\n",
       "      <td>-1</td>\n",
       "      <td>0.999896</td>\n",
       "      <td>1642214.25</td>\n",
       "      <td>NaN</td>\n",
       "      <td>NaN</td>\n",
       "      <td>0.999896</td>\n",
       "      <td>3233.04</td>\n",
       "      <td>1.000660</td>\n",
       "      <td>20605.09</td>\n",
       "      <td>1.0</td>\n",
       "      <td>-5.519986</td>\n",
       "      <td>0</td>\n",
       "      <td>-0.728751</td>\n",
       "      <td>-0.815787</td>\n",
       "      <td>0.156905</td>\n",
       "    </tr>\n",
       "    <tr>\n",
       "      <th>2</th>\n",
       "      <td>2</td>\n",
       "      <td>0</td>\n",
       "      <td>0</td>\n",
       "      <td>302879.87</td>\n",
       "      <td>-1</td>\n",
       "      <td>0.999561</td>\n",
       "      <td>1819368.03</td>\n",
       "      <td>NaN</td>\n",
       "      <td>NaN</td>\n",
       "      <td>0.999403</td>\n",
       "      <td>37956.00</td>\n",
       "      <td>1.000298</td>\n",
       "      <td>18995.00</td>\n",
       "      <td>1.0</td>\n",
       "      <td>-8.389950</td>\n",
       "      <td>0</td>\n",
       "      <td>0.332935</td>\n",
       "      <td>-0.714567</td>\n",
       "      <td>1.998210</td>\n",
       "    </tr>\n",
       "    <tr>\n",
       "      <th>3</th>\n",
       "      <td>3</td>\n",
       "      <td>0</td>\n",
       "      <td>0</td>\n",
       "      <td>11917682.27</td>\n",
       "      <td>-1</td>\n",
       "      <td>1.000171</td>\n",
       "      <td>18389745.62</td>\n",
       "      <td>NaN</td>\n",
       "      <td>NaN</td>\n",
       "      <td>0.999999</td>\n",
       "      <td>2324.90</td>\n",
       "      <td>1.000214</td>\n",
       "      <td>479032.40</td>\n",
       "      <td>1.0</td>\n",
       "      <td>-4.010200</td>\n",
       "      <td>0</td>\n",
       "      <td>-0.990340</td>\n",
       "      <td>-0.213547</td>\n",
       "      <td>0.004853</td>\n",
       "    </tr>\n",
       "    <tr>\n",
       "      <th>4</th>\n",
       "      <td>4</td>\n",
       "      <td>0</td>\n",
       "      <td>0</td>\n",
       "      <td>447549.96</td>\n",
       "      <td>-1</td>\n",
       "      <td>0.999532</td>\n",
       "      <td>17860614.95</td>\n",
       "      <td>NaN</td>\n",
       "      <td>NaN</td>\n",
       "      <td>0.999394</td>\n",
       "      <td>16485.54</td>\n",
       "      <td>1.000016</td>\n",
       "      <td>434.10</td>\n",
       "      <td>1.0</td>\n",
       "      <td>-7.349849</td>\n",
       "      <td>0</td>\n",
       "      <td>0.948687</td>\n",
       "      <td>-0.951109</td>\n",
       "      <td>37.976365</td>\n",
       "    </tr>\n",
       "  </tbody>\n",
       "</table>\n",
       "</div>"
      ],
      "text/plain": [
       "   stock_id  date_id  seconds_in_bucket  imbalance_size  \\\n",
       "0         0        0                  0      3180602.69   \n",
       "1         1        0                  0       166603.91   \n",
       "2         2        0                  0       302879.87   \n",
       "3         3        0                  0     11917682.27   \n",
       "4         4        0                  0       447549.96   \n",
       "\n",
       "   imbalance_buy_sell_flag  reference_price  matched_size  far_price  \\\n",
       "0                        1         0.999812   13380276.64        NaN   \n",
       "1                       -1         0.999896    1642214.25        NaN   \n",
       "2                       -1         0.999561    1819368.03        NaN   \n",
       "3                       -1         1.000171   18389745.62        NaN   \n",
       "4                       -1         0.999532   17860614.95        NaN   \n",
       "\n",
       "   near_price  bid_price  bid_size  ask_price   ask_size  wap    target  \\\n",
       "0         NaN   0.999812  60651.50   1.000026    8493.03  1.0 -3.029704   \n",
       "1         NaN   0.999896   3233.04   1.000660   20605.09  1.0 -5.519986   \n",
       "2         NaN   0.999403  37956.00   1.000298   18995.00  1.0 -8.389950   \n",
       "3         NaN   0.999999   2324.90   1.000214  479032.40  1.0 -4.010200   \n",
       "4         NaN   0.999394  16485.54   1.000016     434.10  1.0 -7.349849   \n",
       "\n",
       "   time_id  liquidity_imbalance  matched_imbalance  size_imbalance  \n",
       "0        0             0.754340          -0.615890        7.141326  \n",
       "1        0            -0.728751          -0.815787        0.156905  \n",
       "2        0             0.332935          -0.714567        1.998210  \n",
       "3        0            -0.990340          -0.213547        0.004853  \n",
       "4        0             0.948687          -0.951109       37.976365  "
      ]
     },
     "execution_count": 5,
     "metadata": {},
     "output_type": "execute_result"
    }
   ],
   "source": [
    "x_cols = [c for c in df.columns if c not in ['row_id', 'time_id', 'date_id']]\n",
    "\n",
    "means = df[x_cols].mean(0)\n",
    "stds = df[x_cols].std(0)\n",
    "\n",
    "print(df.info())\n",
    "df.head(5)"
   ]
  },
  {
   "cell_type": "markdown",
   "metadata": {},
   "source": [
    "## 1. Missing values"
   ]
  },
  {
   "cell_type": "code",
   "execution_count": 6,
   "metadata": {},
   "outputs": [
    {
     "name": "stdout",
     "output_type": "stream",
     "text": [
      "stock_id                         0\n",
      "date_id                          0\n",
      "seconds_in_bucket                0\n",
      "imbalance_size                 220\n",
      "imbalance_buy_sell_flag          0\n",
      "reference_price                220\n",
      "matched_size                   220\n",
      "far_price                  2894342\n",
      "near_price                 2857180\n",
      "bid_price                      220\n",
      "bid_size                         0\n",
      "ask_price                      220\n",
      "ask_size                         0\n",
      "wap                            220\n",
      "target                          88\n",
      "time_id                          0\n",
      "liquidity_imbalance             87\n",
      "matched_imbalance              220\n",
      "size_imbalance                  87\n",
      "dtype: int64\n"
     ]
    }
   ],
   "source": [
    "missing_values_count = df.isnull().sum()\n",
    "print(missing_values_count)"
   ]
  },
  {
   "cell_type": "code",
   "execution_count": 7,
   "metadata": {},
   "outputs": [],
   "source": [
    "df['far_price'] = df['far_price'].fillna(1.0)\n",
    "df['near_price'] = df['near_price'].fillna(1.0)\n",
    "\n",
    "indices_colonne_Imb = np.where(df['imbalance_size'].isnull())[0]\n",
    "\n",
    "valeurs_manquantes_colonne_Imb = df.loc[indices_colonne_Imb, 'date_id']\n",
    "\n",
    "df = df[~df['date_id'].isin(valeurs_manquantes_colonne_Imb.unique())]"
   ]
  },
  {
   "cell_type": "code",
   "execution_count": 8,
   "metadata": {},
   "outputs": [
    {
     "name": "stdout",
     "output_type": "stream",
     "text": [
      "stock_id                   0\n",
      "date_id                    0\n",
      "seconds_in_bucket          0\n",
      "imbalance_size             0\n",
      "imbalance_buy_sell_flag    0\n",
      "reference_price            0\n",
      "matched_size               0\n",
      "far_price                  0\n",
      "near_price                 0\n",
      "bid_price                  0\n",
      "bid_size                   0\n",
      "ask_price                  0\n",
      "ask_size                   0\n",
      "wap                        0\n",
      "target                     0\n",
      "time_id                    0\n",
      "liquidity_imbalance        0\n",
      "matched_imbalance          0\n",
      "size_imbalance             0\n",
      "dtype: int64\n"
     ]
    }
   ],
   "source": [
    "missing_values_count = df.isnull().sum()\n",
    "print(missing_values_count)"
   ]
  },
  {
   "cell_type": "code",
   "execution_count": 9,
   "id": "01819c96",
   "metadata": {},
   "outputs": [
    {
     "name": "stdout",
     "output_type": "stream",
     "text": [
      "Nombre de jours :  477\n",
      "nombre de stocks differents :  200\n"
     ]
    }
   ],
   "source": [
    "print('Nombre de jours : ',len(df['date_id'].unique()))\n",
    "print('nombre de stocks differents : ',len(df['stock_id'].unique()))"
   ]
  },
  {
   "cell_type": "markdown",
   "metadata": {},
   "source": [
    "## 2. Group data"
   ]
  },
  {
   "cell_type": "code",
   "execution_count": 10,
   "id": "d1eb349c",
   "metadata": {},
   "outputs": [],
   "source": [
    "def regrouper_par_id_similaire(dataframe,id_):\n",
    "    grouped = dataframe.groupby(id_)\n",
    "    groupes = []\n",
    "    for _, groupe in grouped:\n",
    "        groupes.append(groupe)\n",
    "    return groupes\n",
    "\n",
    "groupes = regrouper_par_id_similaire(df,'stock_id')\n",
    "groupes_datetime = regrouper_par_id_similaire(df,'date_id')"
   ]
  },
  {
   "cell_type": "markdown",
   "metadata": {},
   "source": [
    "## 3. Data ploting"
   ]
  },
  {
   "cell_type": "markdown",
   "id": "b0bc88a4",
   "metadata": {},
   "source": [
    "### a. Day 1 ask price plot for all stocks"
   ]
  },
  {
   "cell_type": "code",
   "execution_count": 11,
   "id": "56ed26b1",
   "metadata": {},
   "outputs": [
    {
     "data": {
      "image/png": "[encoded data removed]",
      "text/plain": [
       "<Figure size 1000x600 with 1 Axes>"
      ]
     },
     "metadata": {},
     "output_type": "display_data"
    }
   ],
   "source": [
    "#a = groupes[0][groupes[0]['date_id'] == 0]\n",
    "#b = groupes[1][groupes[1]['date_id'] == 0]#print(len(a['seconds_in_bucket'])/6)\n",
    "#a['ask_price'].plot()\n",
    "#b['ask_price'].plot()\n",
    "plt.figure(figsize=(10, 6))  # Create a figure to hold the plots\n",
    "\n",
    "for i in range(len(groupes)):\n",
    "    a = groupes[i][groupes[i]['date_id'] == 0]\n",
    "    plt.plot(a['seconds_in_bucket'], a['ask_price'], label=f'Dataframe {i}')  # Plot ask_price against seconds_in_bucket\n",
    "\n",
    "plt.xlabel('Seconds in Bucket')\n",
    "plt.ylabel('Ask Price')\n",
    "plt.title('Ask Price against Seconds in Bucket for Different Dataframes')\n",
    "#plt.legend()  # Show the legend for different dataframes\n",
    "plt.grid(True)\n",
    "plt.show()\n",
    "    \n"
   ]
  },
  {
   "cell_type": "markdown",
   "id": "883297d8",
   "metadata": {},
   "source": [
    "### b. Day 1 target stock price plot for all stocks"
   ]
  },
  {
   "cell_type": "code",
   "execution_count": 12,
   "id": "7a8b0229",
   "metadata": {},
   "outputs": [
    {
     "data": {
      "image/png": "[encoded data removed]",
      "text/plain": [
       "<Figure size 1000x600 with 1 Axes>"
      ]
     },
     "metadata": {},
     "output_type": "display_data"
    }
   ],
   "source": [
    "\n",
    "plt.figure(figsize=(10, 6))  # Create a figure to hold the plots\n",
    "\n",
    "for i in range(len(groupes)-190):\n",
    "    a = groupes[i][groupes[i]['date_id'] == 1]\n",
    "    plt.plot( a['seconds_in_bucket'],a['target'], label=f'Dataframe {i}')  # Plot ask_price against seconds_in_bucket\n",
    "\n",
    "plt.xlabel('Seconds in Bucket')\n",
    "plt.ylabel('target')\n",
    "plt.title('target against Seconds in Bucket for Different Dataframes')\n",
    "#plt.legend()  # Show the legend for different dataframes\n",
    "plt.grid(True)\n",
    "plt.show()"
   ]
  },
  {
   "cell_type": "markdown",
   "metadata": {},
   "source": [
    "### c. Sum target per/day"
   ]
  },
  {
   "cell_type": "code",
   "execution_count": 13,
   "metadata": {},
   "outputs": [],
   "source": [
    "def moving_average(data, window_size):\n",
    "    moving_averages = []\n",
    "    for i in range(len(data) - window_size + 1):\n",
    "        window = data[i:i + window_size]\n",
    "        average = sum(window) / window_size\n",
    "        moving_averages.append(average)\n",
    "    return moving_averages"
   ]
  },
  {
   "cell_type": "code",
   "execution_count": 14,
   "metadata": {},
   "outputs": [
    {
     "data": {
      "application/vnd.plotly.v1+json": {
       "config": {
        "plotlyServerURL": "https://plot.ly"
       },
       "data": [
        {
         "line": {
          "color": "green"
         },
         "name": "Target variable 200 stock",
         "type": "scatter",
         "x": [
          0,
          1,
          2,
          3,
          4,
          5,
          6,
          7,
          8,
          9,
          10,
          11,
          12,
          13,
          14,
          15,
          16,
          17,
          18,
          19,
          20,
          21,
          22,
          23,
          24,
          25,
          26,
          27,
          28,
          29,
          30,
          31,
          32,
          33,
          34,
          35,
          36,
          37,
          38,
          39,
          40,
          41,
          42,
          43,
          44,
          45,
          46,
          47,
          48,
          49,
          50,
          51,
          52,
          53,
          54,
          55,
          56,
          57,
          58,
          59,
          60,
          61,
          62,
          63,
          64,
          65,
          66,
          67,
          68,
          69,
          70,
          71,
          72,
          73,
          74,
          75,
          76,
          77,
          78,
          79,
          80,
          81,
          82,
          83,
          84,
          85,
          86,
          87,
          88,
          89,
          90,
          91,
          92,
          93,
          94,
          95,
          96,
          97,
          98,
          99,
          100,
          101,
          102,
          103,
          104,
          105,
          106,
          107,
          108,
          109,
          110,
          111,
          112,
          113,
          114,
          115,
          116,
          117,
          118,
          119,
          120,
          121,
          122,
          123,
          124,
          125,
          126,
          127,
          128,
          129,
          130,
          131,
          132,
          133,
          134,
          135,
          136,
          137,
          138,
          139,
          140,
          141,
          142,
          143,
          144,
          145,
          146,
          147,
          148,
          149,
          150,
          151,
          152,
          153,
          154,
          155,
          156,
          157,
          158,
          159,
          160,
          161,
          162,
          163,
          164,
          165,
          166,
          167,
          168,
          169,
          170,
          171,
          172,
          173,
          174,
          175,
          176,
          177,
          178,
          179,
          180,
          181,
          182,
          183,
          184,
          185,
          186,
          187,
          188,
          189,
          190,
          191,
          192,
          193,
          194,
          195,
          196,
          197,
          198,
          199,
          200,
          201,
          202,
          203,
          204,
          205,
          206,
          207,
          208,
          209,
          210,
          211,
          212,
          213,
          214,
          215,
          216,
          217,
          218,
          219,
          220,
          221,
          222,
          223,
          224,
          225,
          226,
          227,
          228,
          229,
          230,
          231,
          232,
          233,
          234,
          235,
          236,
          237,
          238,
          239,
          240,
          241,
          242,
          243,
          244,
          245,
          246,
          247,
          248,
          249,
          250,
          251,
          252,
          253,
          254,
          255,
          256,
          257,
          258,
          259,
          260,
          261,
          262,
          263,
          264,
          265,
          266,
          267,
          268,
          269,
          270,
          271,
          272,
          273,
          274,
          275,
          276,
          277,
          278,
          279,
          280,
          281,
          282,
          283,
          284,
          285,
          286,
          287,
          288,
          289,
          290,
          291,
          292,
          293,
          294,
          295,
          296,
          297,
          298,
          299,
          300,
          301,
          302,
          303,
          304,
          305,
          306,
          307,
          308,
          309,
          310,
          311,
          312,
          313,
          314,
          315,
          316,
          317,
          318,
          319,
          320,
          321,
          322,
          323,
          324,
          325,
          326,
          327,
          328,
          329,
          330,
          331,
          332,
          333,
          334,
          335,
          336,
          337,
          338,
          339,
          340,
          341,
          342,
          343,
          344,
          345,
          346,
          347,
          348,
          349,
          350,
          351,
          352,
          353,
          354,
          355,
          356,
          357,
          358,
          359,
          360,
          361,
          362,
          363,
          364,
          365,
          366,
          367,
          368,
          369,
          370,
          371,
          372,
          373,
          374,
          375,
          376,
          377,
          378,
          379,
          380,
          381,
          382,
          383,
          384,
          385,
          386,
          387,
          388,
          389,
          390,
          391,
          392,
          393,
          394,
          395,
          396,
          397,
          398,
          399,
          400,
          401,
          402,
          403,
          404,
          405,
          406,
          407,
          408,
          409,
          410,
          411,
          412,
          413,
          414,
          415,
          416,
          417,
          418,
          419,
          420,
          421,
          422,
          423,
          424,
          425,
          426,
          427,
          428,
          429,
          430,
          431,
          432,
          433,
          434,
          435,
          436,
          437,
          438,
          439,
          440,
          441,
          442,
          443,
          444,
          445,
          446,
          447,
          448,
          449,
          450,
          451,
          452,
          453,
          454,
          455,
          456,
          457,
          458,
          459,
          460,
          461,
          462,
          463,
          464,
          465,
          466,
          467,
          468,
          469,
          470,
          471,
          472,
          473,
          474,
          475,
          476
         ],
         "y": [
          -5856.254700849001,
          -2971.826794573,
          -1477.17175492,
          -279.75325634999996,
          -1220.2799522869996,
          -541.4515537089999,
          -1803.5560799520006,
          3085.657356334,
          -1317.818799219,
          -2836.5534190160006,
          -3155.851391475,
          -1590.9546918740002,
          942.8072151329995,
          230.52271456599988,
          -322.8098074969997,
          -1756.376687336,
          1467.5992475009998,
          2890.327577291,
          91.2045977859998,
          -318.4681816450004,
          1009.8826668129997,
          2016.4317011490004,
          2926.3204337549996,
          -1321.057094354,
          -4598.844684022,
          -1390.9471169400003,
          -1187.867532441,
          -3991.6956275170005,
          -3324.211856711,
          -3686.516284916,
          -814.9981373890001,
          -647.3517743200002,
          144.82617696200026,
          1716.4760555290004,
          -6511.714457177999,
          -2097.1161451899998,
          288.6086626020001,
          -2281.1442934589995,
          4803.419092360999,
          1810.0601344630004,
          1949.4491994609998,
          -3705.0986398749997,
          -1730.6149340829995,
          -7844.907030304,
          2584.8835755229998,
          -4975.8875332689995,
          3787.737479884,
          -580.450329066,
          4253.511999595001,
          -546.6503087409999,
          26.81492995299982,
          712.4251040219999,
          -7745.661103042001,
          -1247.6980933539996,
          -777.0532462650003,
          238.81671300300013,
          1159.3741194049999,
          -659.0419959829999,
          2813.0471803580003,
          1159.8479998839998,
          -407.0181303840001,
          -1837.4383502090004,
          -7413.134016057,
          -6395.677335615001,
          5814.912958412,
          -3308.529229658,
          4639.111741699,
          -956.8065376920003,
          4093.360339322,
          1548.0059448300003,
          1425.8283334460002,
          412.64769396600036,
          -333.98748959399995,
          -950.192240478,
          1169.912799277,
          1981.0908749269997,
          4440.879825671,
          -123.32085224499963,
          8838.670224924,
          -2220.6735814020003,
          1704.3715993909996,
          -383.9534418149997,
          -12823.706279936998,
          5919.991041931,
          -1140.5736107489995,
          -12094.538815792,
          -1538.570555851,
          -8081.737759987,
          -7915.614217407,
          3245.8603273530007,
          -8176.648040643001,
          11.972752938000212,
          -5206.746485074,
          -8314.762111064,
          -225.42247684599988,
          4341.397202911,
          1694.4706509729995,
          -646.6818415800001,
          -8587.498088133001,
          1172.9926130310002,
          2117.637958565,
          -1857.6443360899998,
          905.2663707450001,
          1735.6574351200002,
          -2096.332922282,
          -2373.185761935,
          2183.657890903,
          8551.960580684,
          862.9441611059995,
          568.9942744570003,
          -3202.5301990940006,
          -4255.052231410999,
          -13.290047114999652,
          4955.6082151069995,
          428.97280460200045,
          760.822827149,
          5299.962156494001,
          -3560.3684403860007,
          -325.2738646959999,
          -5730.217692939001,
          7305.948668427,
          -10026.754209707,
          6899.989798992001,
          548.9957006339994,
          -643.6448900379996,
          -2339.053800139,
          -5042.077316793999,
          2096.2590003069995,
          3346.194620262,
          -126.8548225540003,
          -2535.88738407,
          6.062415340999678,
          -1717.6331077979994,
          -1980.3214526079992,
          -3990.901764448,
          -6616.196059226,
          1006.5102541119994,
          3300.9117214200005,
          6775.846481292001,
          -649.0856119719989,
          1154.4960471999993,
          -6648.314698997,
          -7311.436564486,
          -12380.910531997,
          -8663.359904247,
          -3021.4131444930003,
          -6747.662385826,
          -5616.006284013,
          5964.869232242,
          -2333.688751546,
          -7379.661227340999,
          1063.0989617829996,
          5369.0910370540005,
          6992.615958605,
          5507.014992937,
          246.79184084000008,
          -2961.78404569,
          -3895.6094325039994,
          -5526.572493829999,
          -330.90472745399984,
          3027.2161896840003,
          -2063.4824219959996,
          -2573.631979558999,
          90.38747251900043,
          1107.7350166549995,
          1240.4208983340009,
          8823.748784854,
          -8323.049018332,
          -4922.071123962,
          1146.3654430829995,
          8813.241117029,
          8515.80622503,
          -1730.881296932,
          3394.9637056890006,
          3835.712054653,
          2798.1763876449995,
          971.1075054709995,
          -7658.851145023,
          1197.0376731290007,
          515.0353534620003,
          -3157.4499601749994,
          4565.001700869001,
          -9388.538028866,
          9792.696205331,
          -2538.0706904080007,
          3285.925382264999,
          -1517.810865502,
          -3456.8530449550003,
          -8277.666536480001,
          -5492.3177258919995,
          -102.5504277139994,
          2254.57303424,
          -5246.017034892001,
          662.2791226800009,
          -1567.5622724170012,
          -7081.712441378,
          -9204.418603333,
          -1387.0019325500004,
          -1984.6618268150005,
          1013.3755002139992,
          462.92008016499994,
          -7228.211757576,
          -6690.111788081999,
          4095.076321808,
          -4602.135422486001,
          -652.5004038330003,
          -4084.446997262,
          19005.842105233998,
          5370.132912595001,
          -1587.5202479890004,
          3934.5198705139996,
          -5117.527286629,
          5347.719756295,
          -4663.430476193,
          2108.722336203,
          4203.287954297,
          3732.770074249,
          1525.0658859739997,
          -117.06116730000042,
          -3886.753984066,
          -1739.2790237589998,
          3353.055091235,
          -1753.0756834540005,
          4594.9983886499995,
          -9663.193236145002,
          -5137.8375467509995,
          2038.5497867290005,
          -2338.3796357820006,
          4860.742627485001,
          -1088.9679463110003,
          -1152.896296745,
          -3711.527013841,
          1047.0878756620007,
          2638.393595905,
          -210.04200936699954,
          -1011.331050417001,
          -130.54313287500054,
          365.5671603549997,
          -5148.168836758,
          -584.6226519899997,
          -4054.6560317899994,
          -298.7933383520002,
          2988.364666775,
          2018.868282245,
          -4388.551127688999,
          -4414.35872959,
          381.41605907999997,
          -1371.9171247710005,
          5076.621751949001,
          2269.459971774,
          525.7999815049998,
          1481.1122201540002,
          -2504.617603789,
          3688.9970283220005,
          -2301.242370945,
          5688.329939797,
          159.2135192539996,
          -853.9176208760009,
          -4055.899344825999,
          1889.1042581279999,
          2137.610939478,
          682.7109613849998,
          2478.223436029,
          1078.187203037,
          -1840.2278733879994,
          -2496.909529509,
          4305.968298647001,
          -5903.759015932999,
          6583.2173953540005,
          1773.3972997,
          -5938.3517726420005,
          10203.457527877,
          -9932.738520253,
          -2246.0609981610005,
          2824.713552129,
          805.1830663839997,
          -4062.46426024,
          -2917.985943484,
          6.323397312999987,
          5519.795419642,
          -6127.872496917999,
          3612.269799344,
          -5411.741798324,
          -5243.046859166999,
          -946.0026229510001,
          4599.608782290999,
          6487.017237762,
          645.8926005409999,
          -513.2496590579999,
          2027.7661157950001,
          458.6201851539997,
          1724.7557687890003,
          5130.244524198,
          5839.687528904999,
          946.0711453869999,
          2264.713666957001,
          2034.522885641,
          2857.041956361,
          2703.332307139,
          -5118.265734376,
          -5107.964297375001,
          272.64834200999985,
          1676.632168217,
          2358.2607311469983,
          2588.0456144499994,
          -3656.782530607001,
          466.4224612639999,
          -3616.4355141579995,
          1303.0117791839998,
          -3200.439251371,
          -1915.9805801219995,
          4362.899607591,
          -2819.405799751,
          173.59970231100056,
          310.52469305900036,
          1964.1798868439987,
          2048.488808147,
          -5132.027883113001,
          372.25485829499985,
          4288.398574439,
          5834.451900442001,
          -7637.223581003001,
          -2169.041659447,
          -1368.8999567429996,
          889.0140156699999,
          4242.178766543,
          4167.814860638,
          -439.1485800590001,
          -6917.158958171,
          -2440.615308962,
          -548.1833409210002,
          -2487.1474874839996,
          -9537.851799534,
          3211.2270706179997,
          -6377.503282432001,
          -4199.575202813001,
          3854.7396513770004,
          -283.597662332,
          -697.908377029,
          965.4444417670003,
          -7014.874226697,
          1213.096383718,
          3547.2387090029997,
          -1774.148405809,
          5885.080639260999,
          -4938.980920249,
          -1447.1906297290002,
          -710.6184449409998,
          3908.4655085040004,
          -2902.153129657,
          4852.353327103,
          -529.2737457750002,
          6094.343014074,
          -3932.3157083239994,
          1883.3458419170004,
          -6024.8714726709995,
          583.8859117169994,
          -1994.7827155970003,
          2684.487014135,
          -4541.874529742001,
          -4314.514458816,
          -1055.318797733,
          -4169.921914533999,
          -2631.644606518,
          2832.2738619029997,
          4851.795413475999,
          -2710.430612905,
          -2954.8412579719998,
          -5921.165426206,
          -242.35009867899907,
          -2357.2045476779995,
          6449.034784029,
          5183.2508735989995,
          -683.9096560720001,
          -222.9810326070001,
          -8736.659882169999,
          -3007.4166897199993,
          -1560.9359612320004,
          -1583.9630493329998,
          1359.152139566,
          -1225.134763124,
          -874.6170786099997,
          -4309.231067712,
          -2961.8703914159996,
          -4686.614900307,
          5503.121550559,
          -1370.3126089510006,
          -1854.2998885420002,
          3828.7914546419997,
          -6112.923661682999,
          27.74651125999935,
          -3901.475154699,
          3475.607618588,
          1461.2966647429998,
          -4158.448558317999,
          4315.7494050509995,
          434.73596928999984,
          285.39474555800007,
          328.99143206600047,
          -567.7718694640005,
          2684.834662908,
          -8945.567607354,
          -1762.495592159,
          -5605.694629762,
          -318.8991438230006,
          -2013.7310325600001,
          1495.3071125430006,
          4223.539210281,
          1919.662908152,
          287.63768656,
          3835.892083857,
          -3628.246761661,
          2412.949768758999,
          339.5217642739999,
          722.0673338329998,
          -3629.606953006,
          -1602.8856930340003,
          -733.0304180990003,
          1760.5173505799999,
          -823.2283412659998,
          -4293.27726878,
          2488.363362994,
          190.5422934290001,
          -1211.2373285739998,
          2895.1376771589994,
          -2427.319878918,
          4297.502066895,
          -2001.0489046540001,
          -1099.900066566,
          3751.5556287990003,
          4643.580919562,
          1364.2346973960002,
          5250.684600644,
          -3296.896789609,
          -485.08165982699995,
          -5897.217961310002,
          3903.920039202,
          -585.3080514060002,
          600.7772545400003,
          -607.7731076540003,
          2950.0162644840007,
          2351.4139562820005,
          -142.29954819800022,
          -2150.9796807430002,
          507.2283405589999,
          1377.1795902439999,
          -45.3376979880004,
          1648.599483724,
          -1853.9881703770004,
          2879.1040098209996,
          -1257.1662860060003,
          -579.4447482130004,
          -3012.162447676,
          -3347.8927559309996,
          905.8182812660009,
          -4078.2875433359995,
          1525.313229419,
          -1670.2097504070002,
          -6602.739704353,
          -4195.809437852001,
          -5719.775572292,
          355.9893280160003,
          -3782.811197369,
          -1551.08572069,
          -12396.669956111,
          5898.002372268002,
          4005.9179243429994,
          342.8500823839996,
          2411.368481989,
          -6074.004179575,
          -4373.270882671,
          855.0292416740001,
          -3414.475330165,
          -1523.360642042,
          254.3711409790003,
          -4033.5083497729997,
          4069.4397546359996
         ]
        },
        {
         "line": {
          "color": "blue"
         },
         "name": "mooving average on a 10 lenght window",
         "type": "scatter",
         "x": [
          0,
          1,
          2,
          3,
          4,
          5,
          6,
          7,
          8,
          9,
          10,
          11,
          12,
          13,
          14,
          15,
          16,
          17,
          18,
          19,
          20,
          21,
          22,
          23,
          24,
          25,
          26,
          27,
          28,
          29,
          30,
          31,
          32,
          33,
          34,
          35,
          36,
          37,
          38,
          39,
          40,
          41,
          42,
          43,
          44,
          45,
          46,
          47,
          48,
          49,
          50,
          51,
          52,
          53,
          54,
          55,
          56,
          57,
          58,
          59,
          60,
          61,
          62,
          63,
          64,
          65,
          66,
          67,
          68,
          69,
          70,
          71,
          72,
          73,
          74,
          75,
          76,
          77,
          78,
          79,
          80,
          81,
          82,
          83,
          84,
          85,
          86,
          87,
          88,
          89,
          90,
          91,
          92,
          93,
          94,
          95,
          96,
          97,
          98,
          99,
          100,
          101,
          102,
          103,
          104,
          105,
          106,
          107,
          108,
          109,
          110,
          111,
          112,
          113,
          114,
          115,
          116,
          117,
          118,
          119,
          120,
          121,
          122,
          123,
          124,
          125,
          126,
          127,
          128,
          129,
          130,
          131,
          132,
          133,
          134,
          135,
          136,
          137,
          138,
          139,
          140,
          141,
          142,
          143,
          144,
          145,
          146,
          147,
          148,
          149,
          150,
          151,
          152,
          153,
          154,
          155,
          156,
          157,
          158,
          159,
          160,
          161,
          162,
          163,
          164,
          165,
          166,
          167,
          168,
          169,
          170,
          171,
          172,
          173,
          174,
          175,
          176,
          177,
          178,
          179,
          180,
          181,
          182,
          183,
          184,
          185,
          186,
          187,
          188,
          189,
          190,
          191,
          192,
          193,
          194,
          195,
          196,
          197,
          198,
          199,
          200,
          201,
          202,
          203,
          204,
          205,
          206,
          207,
          208,
          209,
          210,
          211,
          212,
          213,
          214,
          215,
          216,
          217,
          218,
          219,
          220,
          221,
          222,
          223,
          224,
          225,
          226,
          227,
          228,
          229,
          230,
          231,
          232,
          233,
          234,
          235,
          236,
          237,
          238,
          239,
          240,
          241,
          242,
          243,
          244,
          245,
          246,
          247,
          248,
          249,
          250,
          251,
          252,
          253,
          254,
          255,
          256,
          257,
          258,
          259,
          260,
          261,
          262,
          263,
          264,
          265,
          266,
          267,
          268,
          269,
          270,
          271,
          272,
          273,
          274,
          275,
          276,
          277,
          278,
          279,
          280,
          281,
          282,
          283,
          284,
          285,
          286,
          287,
          288,
          289,
          290,
          291,
          292,
          293,
          294,
          295,
          296,
          297,
          298,
          299,
          300,
          301,
          302,
          303,
          304,
          305,
          306,
          307,
          308,
          309,
          310,
          311,
          312,
          313,
          314,
          315,
          316,
          317,
          318,
          319,
          320,
          321,
          322,
          323,
          324,
          325,
          326,
          327,
          328,
          329,
          330,
          331,
          332,
          333,
          334,
          335,
          336,
          337,
          338,
          339,
          340,
          341,
          342,
          343,
          344,
          345,
          346,
          347,
          348,
          349,
          350,
          351,
          352,
          353,
          354,
          355,
          356,
          357,
          358,
          359,
          360,
          361,
          362,
          363,
          364,
          365,
          366,
          367,
          368,
          369,
          370,
          371,
          372,
          373,
          374,
          375,
          376,
          377,
          378,
          379,
          380,
          381,
          382,
          383,
          384,
          385,
          386,
          387,
          388,
          389,
          390,
          391,
          392,
          393,
          394,
          395,
          396,
          397,
          398,
          399,
          400,
          401,
          402,
          403,
          404,
          405,
          406,
          407,
          408,
          409,
          410,
          411,
          412,
          413,
          414,
          415,
          416,
          417,
          418,
          419,
          420,
          421,
          422,
          423,
          424,
          425,
          426,
          427,
          428,
          429,
          430,
          431,
          432,
          433,
          434,
          435,
          436,
          437,
          438,
          439,
          440,
          441,
          442,
          443,
          444,
          445,
          446,
          447,
          448,
          449,
          450,
          451,
          452,
          453,
          454,
          455,
          456,
          457,
          458,
          459,
          460,
          461,
          462,
          463,
          464,
          465,
          466,
          467,
          468,
          469,
          470,
          471,
          472,
          473,
          474,
          475,
          476
         ],
         "y": [
          -1521.9008954541,
          -1251.8605645167002,
          -1113.7733542468,
          -871.7754572415,
          -820.7478601499002,
          -731.0008456709002,
          -852.4933590336001,
          -525.3778262883,
          -544.9108041926002,
          -404.00846449210013,
          -152.199940755,
          264.3734650737998,
          625.1121043760999,
          823.4634262382999,
          668.3054453462998,
          240.70195769379998,
          277.24491473339987,
          11.698236739199865,
          -676.5040837416002,
          -1018.0457291913001,
          -1354.8505395184002,
          -1537.3386199386,
          -1803.7169674855002,
          -2081.8663931648002,
          -1778.1130781765,
          -1969.4000554921004,
          -2040.0169583171005,
          -1892.3693388128,
          -1721.314205407,
          -908.5511104998001,
          -358.89346856189997,
          -82.44873487689992,
          -388.2234214323998,
          -575.7675325368998,
          -1531.9058411201997,
          -622.2460378501,
          -910.123176658,
          -560.2102949298,
          -390.1408984905001,
          -445.1316077670999,
          -680.8026520875001,
          -873.0660790383001,
          -431.3137046485998,
          -1032.8183215445001,
          -373.09742784950004,
          -709.2911100283,
          -187.8206854011001,
          -450.65702144900007,
          -458.5161881407001,
          -602.5626700644001,
          -431.91283920190017,
          -475.29614523560014,
          -730.2824906587002,
          -697.0297819601999,
          -1211.8277061863,
          -552.6310857186002,
          -907.3656799847001,
          -559.3919177553,
          -589.1683719262,
          -461.1370560298001,
          -422.3212615352002,
          -239.03661515220014,
          -14.028010734699887,
          693.8866419116,
          1238.4351514253003,
          773.9351355118001,
          1302.8971459703002,
          1283.0739543675,
          1366.4225229121998,
          1840.9535114724,
          1464.0855588492002,
          1491.9398854437,
          1412.2797718656,
          163.30789283130034,
          850.3262210722002,
          619.2775800696005,
          -788.2853890022998,
          -1386.2304271544997,
          -2182.0721179286998,
          -3857.5005621617993,
          -3310.8471712862993,
          -4298.949135289699,
          -4259.356515814399,
          -3497.6605363281,
          -4921.1358516276,
          -4829.620738237299,
          -3186.027136366999,
          -2862.7230156846,
          -2119.2174238439,
          -2186.4058109165003,
          -2393.6925823487,
          -1364.2639824279,
          -1551.2256913307,
          -940.0244057488002,
          65.01754886959998,
          -122.07349567400004,
          -793.5317921586,
          -744.6130681655999,
          175.25117406080025,
          1120.2953989847001,
          1059.8955651273002,
          527.8787493614,
          288.1379598293,
          196.28231804330008,
          518.2773960420001,
          770.8079687304,
          1084.2088276388001,
          1395.8392541979001,
          184.60635209090006,
          65.78454951070015,
          -564.1366472289,
          486.71123952320005,
          -90.45895830640002,
          600.8690263043,
          160.20777485700003,
          52.94600539299997,
          -257.04165733580004,
          -1291.2456046646,
          -725.5828605953,
          -358.4360120994999,
          201.90027493900007,
          -782.2833303106997,
          220.99833219410021,
          -640.7639584848998,
          -893.6956738090997,
          -1228.4213612500996,
          -1656.1355871587998,
          -1051.2768300681998,
          -930.8115579569,
          -587.8463718538997,
          -640.0694507956996,
          -271.03110766869963,
          -936.4688191024995,
          -1495.8491647712995,
          -2535.9080727102,
          -3003.1538866901,
          -2643.6755952167996,
          -3419.0928592106,
          -4310.7846597539,
          -4391.882384658899,
          -4560.3426986162995,
          -5413.7584260704,
          -4642.617059992399,
          -3374.5642998384,
          -1437.2116507782002,
          -20.1741610598001,
          306.6463374735002,
          685.2341714871002,
          857.2738566380001,
          -291.8703159691997,
          -91.59191355999965,
          949.0958281425001,
          636.4376897646003,
          -157.8346118966996,
          -848.0574605052996,
          -1287.9854581334996,
          -1188.6225523840994,
          -10.069269329699637,
          -452.8132279124995,
          -392.36309092569974,
          -244.6360738719997,
          333.96641886250035,
          1391.8952835651003,
          1476.1703518278,
          1806.6279751448,
          2079.4256789446,
          2235.2012278757,
          1449.9370999374,
          1516.3568872682997,
          2128.2677669773993,
          2065.1347580152997,
          868.0656502949005,
          472.9851978788003,
          -292.7804753145998,
          346.99277464960016,
          -290.3854998564998,
          -241.61060039449995,
          -490.5024374917999,
          -70.30262748499999,
          -1017.7730484459,
          -1618.5083563813,
          -1313.0184031352,
          -1544.0612697981,
          -1129.8091704007006,
          -2042.8508786658003,
          -1945.8000368667006,
          -2982.5638192310007,
          -3751.2245930141007,
          -3544.239481773601,
          -2914.9390108071,
          -2264.3696881965,
          -2207.8226374086003,
          -3156.1011165902005,
          -3300.5105919092007,
          -2957.230871996401,
          -3260.6881870033003,
          -2617.7669832488,
          -2105.7698226417006,
          -66.48541886330023,
          668.9940550776996,
          408.9044802573997,
          756.0644592922996,
          967.1329063869998,
          2170.9160608246993,
          1295.0653810245997,
          1966.1511568934998,
          2451.7299927065,
          3233.4516998576,
          1485.3740779316,
          936.6546699420999,
          706.7312963344,
          139.35140690710006,
          986.4096446935,
          276.3301007185999,
          1202.1729872028998,
          24.981429968099654,
          -909.1311201367004,
          -1078.5531488887002,
          -1464.8977010643002,
          -967.1173215858001,
          -687.3387178103004,
          -628.7004451089,
          -1335.1586556165003,
          -1055.1422997048999,
          -1250.8027789794,
          -305.4876563015997,
          107.16299333180002,
          -109.74629862860004,
          160.6483809851,
          -840.2427654392002,
          -789.8082360071,
          -1079.9842095116,
          -738.7108419627,
          -544.5831628514001,
          -606.5356942173999,
          -1024.3866060495998,
          -1364.6893739669,
          -1313.4934547714,
          -1487.2418832839999,
          -464.76282441329977,
          -179.35456203689984,
          278.6910392926002,
          456.6815951432001,
          -92.61663191319985,
          74.39624269450027,
          283.12711836890026,
          1293.3959853076,
          1271.175731325,
          1322.9756817145,
          409.72357203700005,
          371.6880006724001,
          532.8690964697001,
          453.0289705928,
          951.3130745746,
          690.2320920461,
          736.3335418017999,
          -82.19040512879997,
          332.4850728105001,
          -172.4990666951997,
          891.4126073228002,
          879.8419114800002,
          72.24564026800017,
          1024.3202969172003,
          -216.7758987109998,
          -549.2007188307998,
          -82.70657627909995,
          247.5026833102001,
          -589.3405725785,
          -290.7632653335999,
          -948.4526651377,
          -573.8128531434999,
          -592.7649255711,
          -1251.8836984244003,
          -799.7840262315,
          -1099.4826123321,
          -1476.5542298401,
          -1097.1116582493999,
          -42.16350844919998,
          314.22434595330003,
          262.2670403162001,
          -86.93589006850002,
          571.7133781387,
          382.9619750832,
          1437.1606073354,
          2545.4340461426,
          2734.6414229764,
          2501.151911443,
          2055.9024762309,
          2277.0174118129,
          2598.6756084326003,
          1884.0724234155005,
          1327.4139751626,
          1182.2032324846996,
          836.8419968865999,
          488.6993171107999,
          652.8967640170997,
          60.7471442606995,
          -96.06289817700038,
          -743.4106452289004,
          -883.4426980244004,
          -691.6600497239003,
          -372.4616779986003,
          36.56344855949978,
          -413.04034823730024,
          -631.5064511209,
          -859.2585432599996,
          -297.1623015148999,
          -138.95566682660007,
          -290.5149037221001,
          -383.5905958110001,
          365.29318676999986,
          1140.3364348264,
          -59.675884033000145,
          5.360529997399863,
          -148.88943590800005,
          -91.04050364690006,
          136.75938432299995,
          348.69198957209994,
          817.9799198775002,
          89.03853823090003,
          -583.8628501091999,
          -1222.1263742455,
          -707.1187648936,
          -1443.9997789023,
          -985.9870761662002,
          -1712.6388059764001,
          -2556.8142029120004,
          -2588.1217238381005,
          -2572.5666320654004,
          -1950.6415739512001,
          -1610.0355988783003,
          -2256.7046874559005,
          -1886.6803003357006,
          -578.1712494820001,
          -1076.7087971247001,
          149.54959504459984,
          75.60902330099998,
          -454.58400480960006,
          -497.2860830705,
          -36.648694517200056,
          -423.4084516596,
          763.3143037203998,
          589.0772907711,
          843.7877212782001,
          627.9709910267001,
          227.79751129230016,
          119.20845605010018,
          322.3161101947003,
          193.8996831291002,
          71.50183369220008,
          -92.47030631629991,
          -1009.1570849082,
          -1061.761590104,
          -2088.1880829648003,
          -1958.1209727841997,
          -1863.2281707856,
          -775.5614821709003,
          -1104.9931346331,
          -1200.9989888706,
          -2061.5642329047,
          -1631.6117897984,
          -1435.8807986845998,
          -685.4454405084,
          249.87183830489994,
          444.64533334949994,
          139.11984389849994,
          -1219.7256856661,
          -1249.4242933475998,
          -1110.0337636735999,
          -676.3135259863,
          -516.1633021618001,
          -402.9563237064,
          -1135.3215099702998,
          -2084.5697041014,
          -2312.3657776358,
          -2758.7291644058,
          -1334.7510211328997,
          -1171.040613056,
          -1200.3770057870001,
          -659.1015553895,
          -1406.3091355144002,
          -1281.021008076,
          -1583.7068156849,
          -805.2229470549001,
          -362.90624143900015,
          -310.08960724010007,
          -428.8268217909002,
          -248.3219639668,
          -34.352500556799995,
          -384.3325028143999,
          170.18267640749994,
          435.8914915723,
          -68.51775369320004,
          -592.3280747678999,
          -1299.0272042184,
          -915.0722627688999,
          -1548.02030653,
          -1441.9631922047,
          -1048.1487457324001,
          -889.0815981238,
          -803.5406425214002,
          -688.4349004265002,
          -156.70281585720005,
          260.84172023459996,
          855.3633596381999,
          959.4600074037999,
          797.8724153592,
          488.0531348015,
          -7.603828036500147,
          -23.518383793700103,
          -134.60498657630015,
          -947.5219218400001,
          -335.8609093745001,
          -558.1016569075002,
          -713.1775661923,
          -495.87053185970024,
          -375.6418244509001,
          214.39695154199995,
          87.59510288649999,
          -198.44663882810005,
          259.03175817839997,
          1152.7175770126,
          1040.3047104528,
          1546.3189411742999,
          1337.7529950708001,
          999.7310613722002,
          652.7412531329999,
          613.3830503637,
          754.9571356885,
          925.0248677990998,
          489.0919941537999,
          319.735528646,
          418.4534545345999,
          -120.84496034959997,
          -6.253249463000111,
          92.97775057559991,
          820.417505731,
          425.49173201199994,
          648.8824855249999,
          403.4059430332998,
          752.0936547807999,
          331.3753997317998,
          38.28952928229976,
          -248.6967606655002,
          -368.38806818430015,
          -328.5290741136,
          -874.0757874716,
          -717.0106947308999,
          -1048.891618144,
          -1523.7667715415998,
          -2231.2581163089,
          -2677.5190449375,
          -2583.9756373146,
          -2661.0405122839,
          -2481.3598087598,
          -3811.6086324974995,
          -2813.9796409371,
          -2565.9191714446997,
          -2364.6131881655992,
          -1463.2023695313997,
          -1651.0218437037001,
          -1516.3713747416,
          -1466.4673833758002,
          -1429.6337966554001,
          -1426.8612887906002,
          -161.75717908159987,
          -1154.9082512856999,
          -1148.5560682563998
         ]
        }
       ],
       "layout": {
        "template": {
         "data": {
          "bar": [
           {
            "error_x": {
             "color": "#2a3f5f"
            },
            "error_y": {
             "color": "#2a3f5f"
            },
            "marker": {
             "line": {
              "color": "#E5ECF6",
              "width": 0.5
             },
             "pattern": {
              "fillmode": "overlay",
              "size": 10,
              "solidity": 0.2
             }
            },
            "type": "bar"
           }
          ],
          "barpolar": [
           {
            "marker": {
             "line": {
              "color": "#E5ECF6",
              "width": 0.5
             },
             "pattern": {
              "fillmode": "overlay",
              "size": 10,
              "solidity": 0.2
             }
            },
            "type": "barpolar"
           }
          ],
          "carpet": [
           {
            "aaxis": {
             "endlinecolor": "#2a3f5f",
             "gridcolor": "white",
             "linecolor": "white",
             "minorgridcolor": "white",
             "startlinecolor": "#2a3f5f"
            },
            "baxis": {
             "endlinecolor": "#2a3f5f",
             "gridcolor": "white",
             "linecolor": "white",
             "minorgridcolor": "white",
             "startlinecolor": "#2a3f5f"
            },
            "type": "carpet"
           }
          ],
          "choropleth": [
           {
            "colorbar": {
             "outlinewidth": 0,
             "ticks": ""
            },
            "type": "choropleth"
           }
          ],
          "contour": [
           {
            "colorbar": {
             "outlinewidth": 0,
             "ticks": ""
            },
            "colorscale": [
             [
              0,
              "#0d0887"
             ],
             [
              0.1111111111111111,
              "#46039f"
             ],
             [
              0.2222222222222222,
              "#7201a8"
             ],
             [
              0.3333333333333333,
              "#9c179e"
             ],
             [
              0.4444444444444444,
              "#bd3786"
             ],
             [
              0.5555555555555556,
              "#d8576b"
             ],
             [
              0.6666666666666666,
              "#ed7953"
             ],
             [
              0.7777777777777778,
              "#fb9f3a"
             ],
             [
              0.8888888888888888,
              "#fdca26"
             ],
             [
              1,
              "#f0f921"
             ]
            ],
            "type": "contour"
           }
          ],
          "contourcarpet": [
           {
            "colorbar": {
             "outlinewidth": 0,
             "ticks": ""
            },
            "type": "contourcarpet"
           }
          ],
          "heatmap": [
           {
            "colorbar": {
             "outlinewidth": 0,
             "ticks": ""
            },
            "colorscale": [
             [
              0,
              "#0d0887"
             ],
             [
              0.1111111111111111,
              "#46039f"
             ],
             [
              0.2222222222222222,
              "#7201a8"
             ],
             [
              0.3333333333333333,
              "#9c179e"
             ],
             [
              0.4444444444444444,
              "#bd3786"
             ],
             [
              0.5555555555555556,
              "#d8576b"
             ],
             [
              0.6666666666666666,
              "#ed7953"
             ],
             [
              0.7777777777777778,
              "#fb9f3a"
             ],
             [
              0.8888888888888888,
              "#fdca26"
             ],
             [
              1,
              "#f0f921"
             ]
            ],
            "type": "heatmap"
           }
          ],
          "heatmapgl": [
           {
            "colorbar": {
             "outlinewidth": 0,
             "ticks": ""
            },
            "colorscale": [
             [
              0,
              "#0d0887"
             ],
             [
              0.1111111111111111,
              "#46039f"
             ],
             [
              0.2222222222222222,
              "#7201a8"
             ],
             [
              0.3333333333333333,
              "#9c179e"
             ],
             [
              0.4444444444444444,
              "#bd3786"
             ],
             [
              0.5555555555555556,
              "#d8576b"
             ],
             [
              0.6666666666666666,
              "#ed7953"
             ],
             [
              0.7777777777777778,
              "#fb9f3a"
             ],
             [
              0.8888888888888888,
              "#fdca26"
             ],
             [
              1,
              "#f0f921"
             ]
            ],
            "type": "heatmapgl"
           }
          ],
          "histogram": [
           {
            "marker": {
             "pattern": {
              "fillmode": "overlay",
              "size": 10,
              "solidity": 0.2
             }
            },
            "type": "histogram"
           }
          ],
          "histogram2d": [
           {
            "colorbar": {
             "outlinewidth": 0,
             "ticks": ""
            },
            "colorscale": [
             [
              0,
              "#0d0887"
             ],
             [
              0.1111111111111111,
              "#46039f"
             ],
             [
              0.2222222222222222,
              "#7201a8"
             ],
             [
              0.3333333333333333,
              "#9c179e"
             ],
             [
              0.4444444444444444,
              "#bd3786"
             ],
             [
              0.5555555555555556,
              "#d8576b"
             ],
             [
              0.6666666666666666,
              "#ed7953"
             ],
             [
              0.7777777777777778,
              "#fb9f3a"
             ],
             [
              0.8888888888888888,
              "#fdca26"
             ],
             [
              1,
              "#f0f921"
             ]
            ],
            "type": "histogram2d"
           }
          ],
          "histogram2dcontour": [
           {
            "colorbar": {
             "outlinewidth": 0,
             "ticks": ""
            },
            "colorscale": [
             [
              0,
              "#0d0887"
             ],
             [
              0.1111111111111111,
              "#46039f"
             ],
             [
              0.2222222222222222,
              "#7201a8"
             ],
             [
              0.3333333333333333,
              "#9c179e"
             ],
             [
              0.4444444444444444,
              "#bd3786"
             ],
             [
              0.5555555555555556,
              "#d8576b"
             ],
             [
              0.6666666666666666,
              "#ed7953"
             ],
             [
              0.7777777777777778,
              "#fb9f3a"
             ],
             [
              0.8888888888888888,
              "#fdca26"
             ],
             [
              1,
              "#f0f921"
             ]
            ],
            "type": "histogram2dcontour"
           }
          ],
          "mesh3d": [
           {
            "colorbar": {
             "outlinewidth": 0,
             "ticks": ""
            },
            "type": "mesh3d"
           }
          ],
          "parcoords": [
           {
            "line": {
             "colorbar": {
              "outlinewidth": 0,
              "ticks": ""
             }
            },
            "type": "parcoords"
           }
          ],
          "pie": [
           {
            "automargin": true,
            "type": "pie"
           }
          ],
          "scatter": [
           {
            "fillpattern": {
             "fillmode": "overlay",
             "size": 10,
             "solidity": 0.2
            },
            "type": "scatter"
           }
          ],
          "scatter3d": [
           {
            "line": {
             "colorbar": {
              "outlinewidth": 0,
              "ticks": ""
             }
            },
            "marker": {
             "colorbar": {
              "outlinewidth": 0,
              "ticks": ""
             }
            },
            "type": "scatter3d"
           }
          ],
          "scattercarpet": [
           {
            "marker": {
             "colorbar": {
              "outlinewidth": 0,
              "ticks": ""
             }
            },
            "type": "scattercarpet"
           }
          ],
          "scattergeo": [
           {
            "marker": {
             "colorbar": {
              "outlinewidth": 0,
              "ticks": ""
             }
            },
            "type": "scattergeo"
           }
          ],
          "scattergl": [
           {
            "marker": {
             "colorbar": {
              "outlinewidth": 0,
              "ticks": ""
             }
            },
            "type": "scattergl"
           }
          ],
          "scattermapbox": [
           {
            "marker": {
             "colorbar": {
              "outlinewidth": 0,
              "ticks": ""
             }
            },
            "type": "scattermapbox"
           }
          ],
          "scatterpolar": [
           {
            "marker": {
             "colorbar": {
              "outlinewidth": 0,
              "ticks": ""
             }
            },
            "type": "scatterpolar"
           }
          ],
          "scatterpolargl": [
           {
            "marker": {
             "colorbar": {
              "outlinewidth": 0,
              "ticks": ""
             }
            },
            "type": "scatterpolargl"
           }
          ],
          "scatterternary": [
           {
            "marker": {
             "colorbar": {
              "outlinewidth": 0,
              "ticks": ""
             }
            },
            "type": "scatterternary"
           }
          ],
          "surface": [
           {
            "colorbar": {
             "outlinewidth": 0,
             "ticks": ""
            },
            "colorscale": [
             [
              0,
              "#0d0887"
             ],
             [
              0.1111111111111111,
              "#46039f"
             ],
             [
              0.2222222222222222,
              "#7201a8"
             ],
             [
              0.3333333333333333,
              "#9c179e"
             ],
             [
              0.4444444444444444,
              "#bd3786"
             ],
             [
              0.5555555555555556,
              "#d8576b"
             ],
             [
              0.6666666666666666,
              "#ed7953"
             ],
             [
              0.7777777777777778,
              "#fb9f3a"
             ],
             [
              0.8888888888888888,
              "#fdca26"
             ],
             [
              1,
              "#f0f921"
             ]
            ],
            "type": "surface"
           }
          ],
          "table": [
           {
            "cells": {
             "fill": {
              "color": "#EBF0F8"
             },
             "line": {
              "color": "white"
             }
            },
            "header": {
             "fill": {
              "color": "#C8D4E3"
             },
             "line": {
              "color": "white"
             }
            },
            "type": "table"
           }
          ]
         },
         "layout": {
          "annotationdefaults": {
           "arrowcolor": "#2a3f5f",
           "arrowhead": 0,
           "arrowwidth": 1
          },
          "autotypenumbers": "strict",
          "coloraxis": {
           "colorbar": {
            "outlinewidth": 0,
            "ticks": ""
           }
          },
          "colorscale": {
           "diverging": [
            [
             0,
             "#8e0152"
            ],
            [
             0.1,
             "#c51b7d"
            ],
            [
             0.2,
             "#de77ae"
            ],
            [
             0.3,
             "#f1b6da"
            ],
            [
             0.4,
             "#fde0ef"
            ],
            [
             0.5,
             "#f7f7f7"
            ],
            [
             0.6,
             "#e6f5d0"
            ],
            [
             0.7,
             "#b8e186"
            ],
            [
             0.8,
             "#7fbc41"
            ],
            [
             0.9,
             "#4d9221"
            ],
            [
             1,
             "#276419"
            ]
           ],
           "sequential": [
            [
             0,
             "#0d0887"
            ],
            [
             0.1111111111111111,
             "#46039f"
            ],
            [
             0.2222222222222222,
             "#7201a8"
            ],
            [
             0.3333333333333333,
             "#9c179e"
            ],
            [
             0.4444444444444444,
             "#bd3786"
            ],
            [
             0.5555555555555556,
             "#d8576b"
            ],
            [
             0.6666666666666666,
             "#ed7953"
            ],
            [
             0.7777777777777778,
             "#fb9f3a"
            ],
            [
             0.8888888888888888,
             "#fdca26"
            ],
            [
             1,
             "#f0f921"
            ]
           ],
           "sequentialminus": [
            [
             0,
             "#0d0887"
            ],
            [
             0.1111111111111111,
             "#46039f"
            ],
            [
             0.2222222222222222,
             "#7201a8"
            ],
            [
             0.3333333333333333,
             "#9c179e"
            ],
            [
             0.4444444444444444,
             "#bd3786"
            ],
            [
             0.5555555555555556,
             "#d8576b"
            ],
            [
             0.6666666666666666,
             "#ed7953"
            ],
            [
             0.7777777777777778,
             "#fb9f3a"
            ],
            [
             0.8888888888888888,
             "#fdca26"
            ],
            [
             1,
             "#f0f921"
            ]
           ]
          },
          "colorway": [
           "#636efa",
           "#EF553B",
           "#00cc96",
           "#ab63fa",
           "#FFA15A",
           "#19d3f3",
           "#FF6692",
           "#B6E880",
           "#FF97FF",
           "#FECB52"
          ],
          "font": {
           "color": "#2a3f5f"
          },
          "geo": {
           "bgcolor": "white",
           "lakecolor": "white",
           "landcolor": "#E5ECF6",
           "showlakes": true,
           "showland": true,
           "subunitcolor": "white"
          },
          "hoverlabel": {
           "align": "left"
          },
          "hovermode": "closest",
          "mapbox": {
           "style": "light"
          },
          "paper_bgcolor": "white",
          "plot_bgcolor": "#E5ECF6",
          "polar": {
           "angularaxis": {
            "gridcolor": "white",
            "linecolor": "white",
            "ticks": ""
           },
           "bgcolor": "#E5ECF6",
           "radialaxis": {
            "gridcolor": "white",
            "linecolor": "white",
            "ticks": ""
           }
          },
          "scene": {
           "xaxis": {
            "backgroundcolor": "#E5ECF6",
            "gridcolor": "white",
            "gridwidth": 2,
            "linecolor": "white",
            "showbackground": true,
            "ticks": "",
            "zerolinecolor": "white"
           },
           "yaxis": {
            "backgroundcolor": "#E5ECF6",
            "gridcolor": "white",
            "gridwidth": 2,
            "linecolor": "white",
            "showbackground": true,
            "ticks": "",
            "zerolinecolor": "white"
           },
           "zaxis": {
            "backgroundcolor": "#E5ECF6",
            "gridcolor": "white",
            "gridwidth": 2,
            "linecolor": "white",
            "showbackground": true,
            "ticks": "",
            "zerolinecolor": "white"
           }
          },
          "shapedefaults": {
           "line": {
            "color": "#2a3f5f"
           }
          },
          "ternary": {
           "aaxis": {
            "gridcolor": "white",
            "linecolor": "white",
            "ticks": ""
           },
           "baxis": {
            "gridcolor": "white",
            "linecolor": "white",
            "ticks": ""
           },
           "bgcolor": "#E5ECF6",
           "caxis": {
            "gridcolor": "white",
            "linecolor": "white",
            "ticks": ""
           }
          },
          "title": {
           "x": 0.05
          },
          "xaxis": {
           "automargin": true,
           "gridcolor": "white",
           "linecolor": "white",
           "ticks": "",
           "title": {
            "standoff": 15
           },
           "zerolinecolor": "white",
           "zerolinewidth": 2
          },
          "yaxis": {
           "automargin": true,
           "gridcolor": "white",
           "linecolor": "white",
           "ticks": "",
           "title": {
            "standoff": 15
           },
           "zerolinecolor": "white",
           "zerolinewidth": 2
          }
         }
        }
       }
      }
     },
     "metadata": {},
     "output_type": "display_data"
    }
   ],
   "source": [
    "import plotly.graph_objects as go\n",
    "\n",
    "target_sum1 = []\n",
    "target_sum2 = []\n",
    "for i in range(len(groupes_datetime)):\n",
    "    target_sum1.append(groupes_datetime[i]['target'].sum())\n",
    "    target_sum2.append(groupes_datetime[i][groupes_datetime[i]['stock_id'] == 2 ]['target'].sum())\n",
    "\n",
    "window = 10\n",
    "Mooving_average = result = moving_average(target_sum1, window)\n",
    "\n",
    "#plt.plot(,target_sum)\n",
    "\n",
    "\n",
    "fig = go.Figure()\n",
    "\n",
    "fig.add_trace(\n",
    "    go.Scatter(x = [i for i in range(len(groupes_datetime))], \n",
    "            y = target_sum1, \n",
    "            name = 'Target variable 200 stock',\n",
    "            line = dict(color = 'green'))\n",
    ") \n",
    "fig.add_trace(\n",
    "    go.Scatter(x = [i for i in range(len(groupes_datetime))], \n",
    "            y = Mooving_average, \n",
    "            name = f'mooving average on a {window} lenght window',\n",
    "            line = dict(color = 'blue'))\n",
    ") \n"
   ]
  },
  {
   "cell_type": "markdown",
   "metadata": {},
   "source": [
    "## Data preparartion"
   ]
  },
  {
   "cell_type": "markdown",
   "metadata": {},
   "source": [
    "### Spotting the missing stocks for each day and each second in bucket + Normalization of the data"
   ]
  },
  {
   "cell_type": "code",
   "execution_count": 15,
   "metadata": {},
   "outputs": [],
   "source": [
    "def normalize_column_with_z_score(df, column_name):\n",
    "    column = df[column_name]\n",
    "    \n",
    "    mean_value = means[column_name]\n",
    "    std_value = stds[column_name]\n",
    "    \n",
    "    normalized_column = (column - mean_value) / std_value\n",
    "    \n",
    "    df[column_name] = normalized_column\n",
    "    return df[column_name]"
   ]
  },
  {
   "cell_type": "code",
   "execution_count": 16,
   "id": "71712930",
   "metadata": {},
   "outputs": [],
   "source": [
    "dates_groupes = []\n",
    "target = []\n",
    "x_cols.remove('target')\n",
    "x_cols.remove('seconds_in_bucket')\n",
    "x_cols.remove('stock_id')\n",
    "for i in range(len(groupes_datetime)):\n",
    "    dates_groupes.append(regrouper_par_id_similaire(groupes_datetime[i],'time_id'))\n",
    "\n",
    "stock = [i for i in range(200)]\n",
    "\n",
    "stock_id_manquant =[]\n",
    "\n",
    "for i in range(len(dates_groupes)):\n",
    "    for k in range(len(dates_groupes[i])):\n",
    "        Stock_liste = dates_groupes[i][k]['stock_id'].unique()        \n",
    "        difference = [item for item in stock if item not in Stock_liste]\n",
    "        stock_id_manquant.append([difference,i,k])\n",
    "\n",
    "\n",
    "for i in range(len(dates_groupes)):\n",
    "    target_inter = []\n",
    "    for k in range(len(dates_groupes[i])) :\n",
    "        \n",
    "        target_inter.append(dates_groupes[i][k]['target'].values)\n",
    "        #adding velocity\n",
    "        dates_groupes[i][k]['imbalance_velocity'] = dates_groupes[i][k]['imbalance_size'].diff().fillna(0)\n",
    "        dates_groupes[i][k]['ask_velocity'] = dates_groupes[i][k]['ask_price'].diff().fillna(0)\n",
    "        dates_groupes[i][k]['imbalance_acceleration'] = dates_groupes[i][k]['imbalance_velocity'].diff().fillna(0)\n",
    "        dates_groupes[i][k]['wap_velocity'] = dates_groupes[i][k]['wap'].diff().fillna(0)\n",
    "        dates_groupes[i][k] = dates_groupes[i][k].drop(['time_id','date_id','target','seconds_in_bucket'],axis = 1)\n",
    "        #if k != 0 :\n",
    "            #dates_groupes[i][k] = dates_groupes[i][k].drop(['seconds_in_bucket'],axis = 1)\n",
    "        for p in (x_cols) : \n",
    "            dates_groupes[i][k][p]  = normalize_column_with_z_score(dates_groupes[i][k],p)\n",
    "        dates_groupes[i][k] = dates_groupes[i][k].values\n",
    "    \n",
    "    target.append(target_inter)"
   ]
  },
  {
   "cell_type": "markdown",
   "metadata": {},
   "source": [
    "### Convert to list"
   ]
  },
  {
   "cell_type": "code",
   "execution_count": 17,
   "metadata": {},
   "outputs": [],
   "source": [
    "for i in range(len(dates_groupes)) :\n",
    "    for k in range(len(dates_groupes[i])):\n",
    "        dates_groupes[i][k] = dates_groupes[i][k].tolist() "
   ]
  },
  {
   "cell_type": "code",
   "execution_count": 18,
   "metadata": {},
   "outputs": [],
   "source": [
    "for i in range(len(target)) :\n",
    "    for k in range(len(target[i])):\n",
    "        target[i][k] = target[i][k].tolist() "
   ]
  },
  {
   "cell_type": "markdown",
   "metadata": {},
   "source": [
    "### Insert missing stock data"
   ]
  },
  {
   "cell_type": "markdown",
   "metadata": {},
   "source": [
    "Stock missing data stored in \"stock_id_manquant\"\n",
    "We are inserting lists of 0 for missing stock and we will give less weights for our RNN conerning the stocks were proportionnaly to missing data."
   ]
  },
  {
   "cell_type": "code",
   "execution_count": 19,
   "metadata": {},
   "outputs": [],
   "source": [
    "colonn_number = 18\n",
    "\n",
    "def inser_0_list(data,day,second_in_bucket,stock):\n",
    "    list_to_add = [0]*colonn_number\n",
    "    list_to_add.insert(0,stock)\n",
    "    #print(list_to_add)\n",
    "    data[day][second_in_bucket].insert(stock, list_to_add)\n",
    "    return data"
   ]
  },
  {
   "cell_type": "markdown",
   "metadata": {},
   "source": [
    "Adding data to X_values"
   ]
  },
  {
   "cell_type": "code",
   "execution_count": 20,
   "metadata": {},
   "outputs": [],
   "source": [
    "for i in range(len(stock_id_manquant)):\n",
    "    day = stock_id_manquant[i][1]\n",
    "    seconds = stock_id_manquant[i][2]\n",
    "    for stock_id in stock_id_manquant[i][0]:\n",
    "        dates_groupes = inser_0_list(dates_groupes,day,seconds,stock_id)"
   ]
  },
  {
   "cell_type": "markdown",
   "metadata": {},
   "source": [
    "Adding values to target"
   ]
  },
  {
   "cell_type": "code",
   "execution_count": 21,
   "metadata": {},
   "outputs": [],
   "source": [
    "def inser_target_list(data,day,second_in_bucket,stock):\n",
    "    data[day][second_in_bucket].insert(stock, 0)\n",
    "    return data\n"
   ]
  },
  {
   "cell_type": "code",
   "execution_count": 22,
   "metadata": {},
   "outputs": [],
   "source": [
    "for i in range(len(stock_id_manquant)):\n",
    "    day = stock_id_manquant[i][1]\n",
    "    seconds = stock_id_manquant[i][2]\n",
    "    for stock_id in stock_id_manquant[i][0]:\n",
    "        target = inser_target_list(target,day,seconds,stock_id)"
   ]
  },
  {
   "cell_type": "code",
   "execution_count": 23,
   "metadata": {},
   "outputs": [
    {
     "data": {
      "text/plain": [
       "19"
      ]
     },
     "execution_count": 23,
     "metadata": {},
     "output_type": "execute_result"
    }
   ],
   "source": [
    "len(dates_groupes[0][0][102])"
   ]
  },
  {
   "cell_type": "markdown",
   "metadata": {},
   "source": [
    "### Reshaping data"
   ]
  },
  {
   "cell_type": "code",
   "execution_count": 25,
   "metadata": {},
   "outputs": [],
   "source": [
    "for i in range(len(dates_groupes)):\n",
    "    for j in range(len(dates_groupes[i])):\n",
    "        inter_array = np.array(dates_groupes[i][j])\n",
    "        reshaped = inter_array.reshape(-1)\n",
    "        #print(inter_array)\n",
    "        dates_groupes[i][j] = reshaped.tolist()\n",
    "    "
   ]
  },
  {
   "cell_type": "markdown",
   "metadata": {},
   "source": [
    "### Add seconds in buckets and date [0,5]"
   ]
  },
  {
   "cell_type": "code",
   "execution_count": 26,
   "metadata": {},
   "outputs": [],
   "source": [
    "for i in range(len(dates_groupes)):\n",
    "    for seconds in range(len(dates_groupes[i])):\n",
    "        dates_groupes[i][seconds].insert(0,seconds*10)\n",
    "        "
   ]
  },
  {
   "cell_type": "markdown",
   "metadata": {},
   "source": []
  },
  {
   "cell_type": "markdown",
   "metadata": {},
   "source": [
    "dates_groupes -> shape(481,55,2600)\n",
    "* 481 -> number of dates\n",
    "* 55 -> number on data per day\n",
    "* 2600 -> number of features per data\n",
    "\n",
    "target -> shape(481,55,200)"
   ]
  },
  {
   "cell_type": "markdown",
   "metadata": {},
   "source": [
    "## Model definition"
   ]
  },
  {
   "cell_type": "code",
   "execution_count": 27,
   "metadata": {},
   "outputs": [],
   "source": [
    "import torch\n",
    "import torch.nn as nn\n",
    "import torch.optim as optim\n",
    "import torch.nn.functional as F\n",
    "from torch.nn.utils.rnn import pack_padded_sequence, pad_packed_sequence"
   ]
  },
  {
   "cell_type": "markdown",
   "metadata": {},
   "source": [
    "Attention class to integrate in the LSTM"
   ]
  },
  {
   "cell_type": "markdown",
   "metadata": {},
   "source": [
    "LSTM Model"
   ]
  },
  {
   "cell_type": "code",
   "execution_count": 28,
   "metadata": {},
   "outputs": [],
   "source": [
    "class MyLSTM(nn.Module):\n",
    "    def __init__(self, input_size, hidden_size, output_size,num_layers):\n",
    "        super(MyLSTM, self).__init__()\n",
    "\n",
    "        self.seq_size = input_size\n",
    "\n",
    "        self.conv1 = nn.Conv1d(in_channels=1, out_channels=2, kernel_size=3, stride=1, padding=1)\n",
    "        #self.conv2 = nn.Conv1d(in_channels=8, out_channels=16, kernel_size=3, stride=1, padding=1)\n",
    "        self.conv3 = nn.Conv1d(in_channels=2, out_channels=1, kernel_size=3, stride=1, padding=1)\n",
    "        self.relu = nn.ReLU()\n",
    "        \n",
    "        self.out_size = self.calculate_output_size()\n",
    "\n",
    "        #self.dropout = nn.Dropout(0.2)\n",
    "\n",
    "        self.hidden_size = hidden_size\n",
    "        self.lstm = nn.LSTM(input_size, hidden_size, batch_first=True, num_layers= num_layers)\n",
    "        self.fc = nn.Linear(hidden_size, output_size)\n",
    "        \n",
    "        self.num_layers = num_layers\n",
    "\n",
    "\n",
    "    def calculate_output_size(self):\n",
    "        input_tensor = torch.randn(1, 1, self.seq_size)\n",
    "        output_tensor = self.forward_conv(input_tensor)\n",
    "        return output_tensor.size(2)\n",
    "    \n",
    "    def forward_conv(self, x):\n",
    "        x = self.relu(self.conv1(x))\n",
    "        #x = self.relu(self.conv2(x))\n",
    "        x = self.relu(self.conv3(x))\n",
    "        return x\n",
    "\n",
    "    def forward(self, x):\n",
    "\n",
    "        batch_size = x.size(0)\n",
    "        seq_lenght = x.size(1)\n",
    "        seq_size = x.size(2)  # Get the input sequence size\n",
    "\n",
    "\n",
    "        #x = x.view(-1, 1, self.seq_size)\n",
    "\n",
    "        #x = self.forward_conv(x)\n",
    "\n",
    "        #x = x.view(batch_size, -1, self.out_size)\n",
    "        h0 = torch.zeros(self.num_layers, batch_size, self.hidden_size).to(x.device)\n",
    "        c0 = torch.zeros(self.num_layers, batch_size, self.hidden_size).to(x.device)\n",
    "    \n",
    "        out, _ = self.lstm(x, (h0, c0))\n",
    "        #out = self.dropout(out)\n",
    "        out = self.fc(out)\n",
    "        return out"
   ]
  },
  {
   "cell_type": "markdown",
   "metadata": {},
   "source": [
    "Initialization"
   ]
  },
  {
   "cell_type": "code",
   "execution_count": 32,
   "metadata": {},
   "outputs": [],
   "source": [
    "vector_size = len(dates_groupes[0][0])\n",
    "\n",
    "input_data = torch.tensor(np.array(dates_groupes[:470]),dtype=torch.float32)\n",
    "output_labels = torch.tensor(np.array(target[:470]),dtype=torch.float32)\n",
    "#print(input_data.size())\n",
    "input_size = vector_size\n",
    "hidden_size = 150\n",
    "output_size = 200\n",
    "num_layers = 5\n",
    "\n",
    "\n",
    "model = MyLSTM(input_size, hidden_size, output_size,num_layers)\n",
    "\n",
    "criterion = nn.L1Loss() \n",
    "optimizer = optim.Adam(model.parameters(), lr=0.001)"
   ]
  },
  {
   "cell_type": "markdown",
   "metadata": {},
   "source": [
    "## Training"
   ]
  },
  {
   "cell_type": "code",
   "execution_count": 33,
   "metadata": {},
   "outputs": [
    {
     "name": "stdout",
     "output_type": "stream",
     "text": [
      "Epoch [1/100], Loss: 6.355891704559326\n",
      "Epoch [2/100], Loss: 6.3557562828063965\n",
      "Epoch [3/100], Loss: 6.355594635009766\n",
      "Epoch [4/100], Loss: 6.355484485626221\n",
      "Epoch [5/100], Loss: 6.355338096618652\n",
      "Epoch [6/100], Loss: 6.355138778686523\n",
      "Epoch [7/100], Loss: 6.35500955581665\n",
      "Epoch [8/100], Loss: 6.354894161224365\n",
      "Epoch [9/100], Loss: 6.354737758636475\n",
      "Epoch [10/100], Loss: 6.354508399963379\n",
      "Epoch [11/100], Loss: 6.354372024536133\n",
      "Epoch [12/100], Loss: 6.354213237762451\n",
      "Epoch [13/100], Loss: 6.354006767272949\n",
      "Epoch [14/100], Loss: 6.353877544403076\n",
      "Epoch [15/100], Loss: 6.353676795959473\n",
      "Epoch [16/100], Loss: 6.353288173675537\n",
      "Epoch [17/100], Loss: 6.3529157638549805\n",
      "Epoch [18/100], Loss: 6.3524603843688965\n",
      "Epoch [19/100], Loss: 6.351887226104736\n",
      "Epoch [20/100], Loss: 6.351279258728027\n",
      "Epoch [21/100], Loss: 6.350360870361328\n",
      "Epoch [22/100], Loss: 6.349377632141113\n",
      "Epoch [23/100], Loss: 6.348355770111084\n",
      "Epoch [24/100], Loss: 6.3470563888549805\n",
      "Epoch [25/100], Loss: 6.345573902130127\n",
      "Epoch [26/100], Loss: 6.344237327575684\n",
      "Epoch [27/100], Loss: 6.3428497314453125\n",
      "Epoch [28/100], Loss: 6.3414154052734375\n",
      "Epoch [29/100], Loss: 6.339311599731445\n",
      "Epoch [30/100], Loss: 6.33753776550293\n",
      "Epoch [31/100], Loss: 6.337368965148926\n",
      "Epoch [32/100], Loss: 6.334860801696777\n",
      "Epoch [33/100], Loss: 6.332530975341797\n",
      "Epoch [34/100], Loss: 6.33018159866333\n",
      "Epoch [35/100], Loss: 6.329708576202393\n",
      "Epoch [36/100], Loss: 6.3293137550354\n",
      "Epoch [37/100], Loss: 6.325356483459473\n",
      "Epoch [38/100], Loss: 6.327881813049316\n",
      "Epoch [39/100], Loss: 6.3240437507629395\n",
      "Epoch [40/100], Loss: 6.324146270751953\n",
      "Epoch [41/100], Loss: 6.31935453414917\n",
      "Epoch [42/100], Loss: 6.321664810180664\n",
      "Epoch [43/100], Loss: 6.316330909729004\n",
      "Epoch [44/100], Loss: 6.317471504211426\n",
      "Epoch [45/100], Loss: 6.3136067390441895\n",
      "Epoch [46/100], Loss: 6.313581466674805\n",
      "Epoch [47/100], Loss: 6.309913635253906\n",
      "Epoch [48/100], Loss: 6.309416770935059\n",
      "Epoch [49/100], Loss: 6.306675910949707\n",
      "Epoch [50/100], Loss: 6.305772304534912\n",
      "Epoch [51/100], Loss: 6.302412986755371\n",
      "Epoch [52/100], Loss: 6.3017754554748535\n",
      "Epoch [53/100], Loss: 6.29860782623291\n",
      "Epoch [54/100], Loss: 6.2979559898376465\n",
      "Epoch [55/100], Loss: 6.295679092407227\n",
      "Epoch [56/100], Loss: 6.293103218078613\n",
      "Epoch [57/100], Loss: 6.292471408843994\n",
      "Epoch [58/100], Loss: 6.289812088012695\n",
      "Epoch [59/100], Loss: 6.286999225616455\n",
      "Epoch [60/100], Loss: 6.286561012268066\n",
      "Epoch [61/100], Loss: 6.283979892730713\n",
      "Epoch [62/100], Loss: 6.280849456787109\n",
      "Epoch [63/100], Loss: 6.280220031738281\n",
      "Epoch [64/100], Loss: 6.278499603271484\n",
      "Epoch [65/100], Loss: 6.274710178375244\n",
      "Epoch [66/100], Loss: 6.274169445037842\n",
      "Epoch [67/100], Loss: 6.273453712463379\n",
      "Epoch [68/100], Loss: 6.2688517570495605\n",
      "Epoch [69/100], Loss: 6.268736362457275\n",
      "Epoch [70/100], Loss: 6.269127368927002\n",
      "Epoch [71/100], Loss: 6.264913558959961\n",
      "Epoch [72/100], Loss: 6.263848781585693\n",
      "Epoch [73/100], Loss: 6.265349864959717\n",
      "Epoch [74/100], Loss: 6.258503437042236\n",
      "Epoch [75/100], Loss: 6.26094913482666\n",
      "Epoch [76/100], Loss: 6.256092071533203\n",
      "Epoch [77/100], Loss: 6.25604248046875\n",
      "Epoch [78/100], Loss: 6.254289150238037\n",
      "Epoch [79/100], Loss: 6.251806735992432\n",
      "Epoch [80/100], Loss: 6.249776840209961\n",
      "Epoch [81/100], Loss: 6.2485222816467285\n",
      "Epoch [82/100], Loss: 6.2452287673950195\n",
      "Epoch [83/100], Loss: 6.24481201171875\n",
      "Epoch [84/100], Loss: 6.241334438323975\n",
      "Epoch [85/100], Loss: 6.241465091705322\n",
      "Epoch [86/100], Loss: 6.238818645477295\n",
      "Epoch [87/100], Loss: 6.236428260803223\n",
      "Epoch [88/100], Loss: 6.234699726104736\n",
      "Epoch [89/100], Loss: 6.23306941986084\n",
      "Epoch [90/100], Loss: 6.2313642501831055\n",
      "Epoch [91/100], Loss: 6.22865629196167\n",
      "Epoch [92/100], Loss: 6.227872371673584\n",
      "Epoch [93/100], Loss: 6.225813388824463\n",
      "Epoch [94/100], Loss: 6.223109245300293\n",
      "Epoch [95/100], Loss: 6.221733093261719\n",
      "Epoch [96/100], Loss: 6.219491004943848\n",
      "Epoch [97/100], Loss: 6.217401027679443\n",
      "Epoch [98/100], Loss: 6.216603755950928\n",
      "Epoch [99/100], Loss: 6.214567184448242\n",
      "Epoch [100/100], Loss: 6.211248874664307\n"
     ]
    }
   ],
   "source": [
    "device = torch.device(\"cuda\" if torch.cuda.is_available() else \"cpu\")\n",
    "\n",
    "model.to(device)\n",
    "input_data = input_data.to(device)\n",
    "output_labels = output_labels.to(device)\n",
    "#print(input_data.shape)\n",
    "epochs = 100\n",
    "#print(len(input_data))\n",
    "for epoch in range(epochs):\n",
    "    model.train()\n",
    "    running_loss = 0.0\n",
    "    \n",
    "    optimizer.zero_grad()\n",
    "    outputs = model(input_data)\n",
    "    #print(outputs.size())\n",
    "    #print(output_labels.size())\n",
    "    loss = criterion(outputs, output_labels)\n",
    "    loss.backward()\n",
    "    optimizer.step()\n",
    "\n",
    "    running_loss += loss.item()\n",
    "    \n",
    "    print(f\"Epoch [{epoch + 1}/{epochs}], Loss: {loss.item()}\")"
   ]
  },
  {
   "cell_type": "markdown",
   "metadata": {},
   "source": [
    "## Test model"
   ]
  },
  {
   "cell_type": "code",
   "execution_count": 34,
   "metadata": {},
   "outputs": [
    {
     "name": "stdout",
     "output_type": "stream",
     "text": [
      "Test Loss: 5.472357749938965\n"
     ]
    }
   ],
   "source": [
    "test_input_data = torch.tensor(np.array(dates_groupes[-6:]),dtype=torch.float32).to(device)\n",
    "test_output_labels = torch.tensor(np.array(target[-6:]),dtype=torch.float32).to(device)\n",
    "\n",
    "# Set the model to evaluation mode\n",
    "model.eval()\n",
    "\n",
    "# Calculate predictions on the test data\n",
    "with torch.no_grad():\n",
    "    test_outputs = model(test_input_data)\n",
    "\n",
    "criterion = nn.L1Loss()\n",
    "test_loss = criterion(test_outputs, test_output_labels)\n",
    "\n",
    "print(f\"Test Loss: {test_loss.item()}\")"
   ]
  },
  {
   "cell_type": "markdown",
   "metadata": {},
   "source": [
    "## Plot test\n"
   ]
  },
  {
   "cell_type": "code",
   "execution_count": 36,
   "metadata": {},
   "outputs": [
    {
     "data": {
      "image/png": "[encoded data removed]",
      "text/plain": [
       "<Figure size 640x480 with 1 Axes>"
      ]
     },
     "metadata": {},
     "output_type": "display_data"
    }
   ],
   "source": [
    "Y1 = [row[120] for row in test_outputs[2]]\n",
    "#Y2 = moving_average([row[120] for row in test_output_labels[2]],5)\n",
    "Y2 = [row[120] for row in test_output_labels[2]]\n",
    "\n",
    "plt.plot(Y1)\n",
    "plt.plot(Y2)\n",
    "plt.show()"
   ]
  },
  {
   "cell_type": "markdown",
   "metadata": {},
   "source": []
  },
  {
   "cell_type": "markdown",
   "metadata": {},
   "source": []
  },
  {
   "cell_type": "code",
   "execution_count": null,
   "metadata": {},
   "outputs": [],
   "source": [
    "waps = ['wap-derived_0','wap_derived_1']\n",
    "df[df['seconds_in_buckeks'] == 0][waps] = 0"
   ]
  }
 ],
 "metadata": {
  "kernelspec": {
   "display_name": "Python 3 (ipykernel)",
   "language": "python",
   "name": "python3"
  },
  "language_info": {
   "codemirror_mode": {
    "name": "ipython",
    "version": 3
   },
   "file_extension": ".py",
   "mimetype": "text/x-python",
   "name": "python",
   "nbconvert_exporter": "python",
   "pygments_lexer": "ipython3",
   "version": "3.9.6"
  }
 },
 "nbformat": 4,
 "nbformat_minor": 5
}
